{
 "cells": [
  {
   "cell_type": "markdown",
   "metadata": {},
   "source": [
    "# Run AR6-fair for CDR MIP scenarios from AR6.\n",
    "\n",
    "\n",
    "These are idealised emissions runs using data from Norman initialised using RCMIP values in 1750 and then 400 annual values thereafter for each CDRMIP scenario. \n",
    "In this notebook we use the AR6 parameter settings to run a constrained ensemble \n",
    "    \n",
    "    * plot the emissions for some of the pathways\n",
    "    \n",
    "    * run the zecmip pathways through FaIR , \n",
    "    \n",
    "    * plot some fields (currently only for the first model) to ensure all is well, \n",
    "    \n",
    "    * output to a csv file.\n"
   ]
  },
  {
   "cell_type": "code",
   "execution_count": 1,
   "metadata": {},
   "outputs": [],
   "source": [
    "import fair\n",
    "import matplotlib.pyplot as pl\n",
    "import pandas as pd\n",
    "import seaborn as sns\n",
    "import matplotlib.pyplot as plt\n",
    "import numpy as np\n",
    "import scipy.stats as st\n",
    "from scipy.interpolate import interp1d\n",
    "from multiprocessing import Pool\n",
    "from tqdm import tqdm\n",
    "import json\n",
    "import pickle\n",
    "#from climateforcing.twolayermodel import TwoLayerModel\n",
    "from climateforcing.utils import check_and_download, mkdir_p\n",
    "import os"
   ]
  },
  {
   "cell_type": "code",
   "execution_count": 2,
   "metadata": {},
   "outputs": [],
   "source": [
    "# set up plotting\n",
    "pl.rcParams['figure.figsize'] = (9/2.54, 9/2.54)\n",
    "pl.rcParams['font.size'] = 12\n",
    "pl.rcParams['font.family'] = 'Arial'\n",
    "pl.rcParams['xtick.direction'] = 'out'\n",
    "pl.rcParams['ytick.direction'] = 'out'\n",
    "pl.rcParams['xtick.minor.visible'] = True\n",
    "pl.rcParams['ytick.major.left'] = True\n",
    "pl.rcParams['ytick.major.right'] = True\n",
    "pl.rcParams['ytick.minor.visible'] = True\n",
    "pl.rcParams['xtick.top'] = True\n",
    "pl.rcParams['ytick.right'] = True"
   ]
  },
  {
   "cell_type": "code",
   "execution_count": 3,
   "metadata": {},
   "outputs": [],
   "source": [
    "# Download FaIR params set\n",
    "check_and_download(\n",
    "    'https://zenodo.org/record/5513022/files/fair-1.6.2-wg3-params.json', \n",
    "    '../data_input/fair_ar6/'\n",
    ")"
   ]
  },
  {
   "cell_type": "code",
   "execution_count": 4,
   "metadata": {},
   "outputs": [],
   "source": [
    "with open('../data_input/fair_ar6/fair-1.6.2-wg3-params.json') as f:\n",
    "    config_list = json.load(f)"
   ]
  },
  {
   "cell_type": "code",
   "execution_count": 5,
   "metadata": {},
   "outputs": [
    {
     "data": {
      "text/plain": [
       "2237"
      ]
     },
     "execution_count": 5,
     "metadata": {},
     "output_type": "execute_result"
    }
   ],
   "source": [
    "len(config_list)\n",
    "\n"
   ]
  },
  {
   "cell_type": "code",
   "execution_count": 6,
   "metadata": {},
   "outputs": [],
   "source": [
    "#print(config_list)"
   ]
  },
  {
   "cell_type": "code",
   "execution_count": 7,
   "metadata": {},
   "outputs": [
    {
     "name": "stdout",
     "output_type": "stream",
     "text": [
      "F2x 3\n",
      "r0 2\n",
      "rt 2\n",
      "rc 2\n",
      "lambda_global 13\n",
      "ocean_heat_capacity 19\n",
      "ocean_heat_exchange 19\n",
      "deep_ocean_efficacy 19\n",
      "b_aero 6\n",
      "ghan_params 11\n",
      "scale 5\n",
      "C_pi 4\n",
      "E_pi 4\n",
      "ghg_forcing 11\n",
      "aCO2land 8\n",
      "stwv_from_ch4 13\n",
      "F_ref_BC 8\n",
      "E_ref_BC 8\n",
      "F_solar 7\n",
      "F_volcanic 10\n",
      "tropO3_forcing 14\n",
      "b_tro3 6\n",
      "ozone_feedback 14\n",
      "natural 7\n"
     ]
    }
   ],
   "source": [
    "for k in config_list[0].keys():\n",
    "    rt_list = []\n",
    "    rt_list.append(k)\n",
    "    print (k, len(k))\n",
    "   \n",
    "    "
   ]
  },
  {
   "cell_type": "code",
   "execution_count": 8,
   "metadata": {},
   "outputs": [
    {
     "name": "stdout",
     "output_type": "stream",
     "text": [
      "361\n"
     ]
    }
   ],
   "source": [
    "rt_list = []\n",
    "for c in config_list:\n",
    "    rt_list.append(c['F_solar'])\n",
    "#print (rt_list[0])\n",
    "print (len(rt_list[0]))\n",
    "#print ((rt_list[0]))\n",
    "#print ((rt_list[1]))\n",
    "\n",
    "#print(len(rt_list[0]))\n",
    "    \n",
    "#print(len(rt_list[0]))\n",
    "#print(len(rt_list[1]))\n",
    "#print(rt_list[:][0][0])\n",
    "#print(rt_list[:][0][0][0])\n",
    "#print(rt_list[:][0][0][1])\n",
    "#print(rt_list[:][0][0][0])\n",
    "#rt_list = []\n",
    "#for c in config_list:\n",
    "#    rt_list.append(c['natural'])\n",
    "#print('natural', len(rt_list[0]))\n",
    "#pl.plot(np.arange(361), rt_list[:][0], label=r'natural')\n",
    "#pl.legend(bbox_to_anchor=(0.75, 1), loc='upper left')"
   ]
  },
  {
   "cell_type": "code",
   "execution_count": 9,
   "metadata": {},
   "outputs": [
    {
     "name": "stdout",
     "output_type": "stream",
     "text": [
      "[192.9865502785643, 11.137730226696137]\n",
      "[194.26764846814376, 11.281236291135704]\n",
      "[192.9865502785643, 11.137730226696137]\n",
      "[194.26764846814376, 11.281236291135704]\n"
     ]
    },
    {
     "data": {
      "text/plain": [
       "2237"
      ]
     },
     "execution_count": 9,
     "metadata": {},
     "output_type": "execute_result"
    }
   ],
   "source": [
    "rt_list = []\n",
    "for c in config_list:\n",
    "    rt_list.append(c[\"natural\"])\n",
    "print(rt_list[0][0])\n",
    "print(rt_list[0][1])\n",
    "print(rt_list[1][0])\n",
    "print(rt_list[1][1])\n",
    "len(rt_list[:])"
   ]
  },
  {
   "cell_type": "code",
   "execution_count": 10,
   "metadata": {},
   "outputs": [
    {
     "name": "stdout",
     "output_type": "stream",
     "text": [
      "2237\n",
      "400\n"
     ]
    }
   ],
   "source": [
    "with open('../data_input/fair_ar6/fair-1.6.2-wg3-params.json', \"r\") as infile:\n",
    "    all_data = json.load(infile)\n",
    "\n",
    "    # COULD BE: for data in all_data: ... if you don't want to just see the first index\n",
    "    #data = all_data[0]\n",
    "    \n",
    "    for data in all_data:\n",
    "        for key in data:\n",
    "            val = data[key]\n",
    "            # if the value is a list of length 361\n",
    "            if type(val) == list and len(val) == 361:\n",
    "                # for i in range(400 - len(val)): # IF 361 IS HARD CODED, THIS LINE IS UNNECESSARILY COMPLICATED\n",
    "                for i in range(39):\n",
    "                    # add the final value 400 - n times\n",
    "                    val.append(val[-1])\n",
    "        #print(data)\n",
    "            \n",
    "    with open(\"fair-1.6.2-wg3-params-extended.json\", \"w\") as outfile:\n",
    "        # this dumps ALL DATA into the new JSON file\n",
    "        json.dump(all_data, outfile)\n",
    "        # alternatively, you can dump only THE EDITED DATA with:\n",
    "        #json.dump(data, outfile)\n",
    "\n",
    "# double checks it changes as needed\n",
    "with open(\"fair-1.6.2-wg3-params-extended.json\", \"r\") as infile:\n",
    "    extended_data = json.load(infile)\n",
    "    print(len(extended_data))\n",
    "    \n",
    "    new_rt_list = []\n",
    "    for c in extended_data:\n",
    "        new_rt_list.append(c['F_solar'])\n",
    "    print (len(new_rt_list[0]))"
   ]
  },
  {
   "cell_type": "code",
   "execution_count": 11,
   "metadata": {},
   "outputs": [
    {
     "name": "stdout",
     "output_type": "stream",
     "text": [
      "F2x 3\n",
      "r0 2\n",
      "rt 2\n",
      "rc 2\n",
      "lambda_global 13\n",
      "ocean_heat_capacity 19\n",
      "ocean_heat_exchange 19\n",
      "deep_ocean_efficacy 19\n",
      "b_aero 6\n",
      "ghan_params 11\n",
      "scale 5\n",
      "C_pi 4\n",
      "E_pi 4\n",
      "ghg_forcing 11\n",
      "aCO2land 8\n",
      "stwv_from_ch4 13\n",
      "F_ref_BC 8\n",
      "E_ref_BC 8\n",
      "F_solar 7\n",
      "F_volcanic 10\n",
      "tropO3_forcing 14\n",
      "b_tro3 6\n",
      "ozone_feedback 14\n",
      "natural 7\n"
     ]
    }
   ],
   "source": [
    "for k in extended_data[0].keys():\n",
    "    rt_list = []\n",
    "    rt_list.append(k)\n",
    "    print (k, len(k))"
   ]
  },
  {
   "cell_type": "code",
   "execution_count": 12,
   "metadata": {},
   "outputs": [
    {
     "name": "stdout",
     "output_type": "stream",
     "text": [
      "2237\n",
      "400\n"
     ]
    }
   ],
   "source": [
    "print(len(extended_data))\n",
    "\n",
    "new_rt_list = []\n",
    "for c in extended_data:\n",
    "    new_rt_list.append(c['F_volcanic'])\n",
    "#print (rt_list[0])\n",
    "print (len(new_rt_list[0]))\n"
   ]
  },
  {
   "cell_type": "code",
   "execution_count": 15,
   "metadata": {},
   "outputs": [
    {
     "name": "stdout",
     "output_type": "stream",
     "text": [
      "original config_list\n",
      "2237\n",
      "361\n"
     ]
    }
   ],
   "source": [
    "print ('original config_list')\n",
    "print(len(config_list))\n",
    "\n",
    "new_rt_list = []\n",
    "for c in config_list:\n",
    "    new_rt_list.append(c['natural'])\n",
    "#print (rt_list[0])\n",
    "print (len(new_rt_list[0]))\n"
   ]
  },
  {
   "cell_type": "code",
   "execution_count": 16,
   "metadata": {
    "tags": []
   },
   "outputs": [
    {
     "data": {
      "text/plain": [
       "10"
      ]
     },
     "execution_count": 16,
     "metadata": {},
     "output_type": "execute_result"
    }
   ],
   "source": [
    "#scenarios = ['constant_forcing', 'constant_emissions', 'zero', 'scenario', 'infrastructure']\n",
    "#scenarios = ['constant_emissions', 'zero', 'infrastructure', 'scenario']\n",
    "# zero and constant emissions will be the easy ones, so start with these.\n",
    "\n",
    "scenarios = ['B1500',\n",
    "             'B1750',\n",
    "             'B2000',\n",
    "             'B2500',\n",
    "             'OS250_000',\n",
    "             'OS250_100',\n",
    "             'OS500_000',\n",
    "             'OS500_100',\n",
    "             'OS1000_000',\n",
    "             'OS1000_100'\n",
    "            ]\n",
    "\n",
    "len(scenarios)"
   ]
  },
  {
   "cell_type": "code",
   "execution_count": 17,
   "metadata": {},
   "outputs": [],
   "source": [
    "# Download RCMIP emissions\n",
    "#check_and_download(\n",
    "#    'https://zenodo.org/record/4589756/files/rcmip-emissions-annual-means-v5-1-0.csv', \n",
    "#    '../data_input/rcmip/'\n",
    "#)"
   ]
  },
  {
   "cell_type": "code",
   "execution_count": 18,
   "metadata": {},
   "outputs": [],
   "source": [
    "# Download illustrative pathways\n",
    "#AR6Pathways = pd.read_csv(\n",
    "#    '/home/h02/hadcam/github/IllusPathwaysAR6_data/AR6Illus_RCMIP.csv')\n",
    "    #20210928_ar6emissions_harmonized_infilled_c1_c3_IPs_plus_c2.csv')\n",
    "\n",
    "\n",
    "#RCMIPhist_data = pd.read_csv('/home/h02/hadcam/github/IllusPathwaysAR6/plushistRCMIP.csv')\n",
    "\n",
    "#plushist = pd.read_csv('/home/h02/hadcam/github/IllusPathwaysAR6/plushistRCMIP.csv')\n",
    "#plushist_long = pd.melt(plushist, id_vars=['Model', 'Scenario', 'Region', 'Variable', 'Unit', 'Mip_Era', 'Activity_Id'], var_name='Year')\n",
    "#rcmip_ar6 = pd.read_csv('/home/h02/hadcam/github/IllusPathwaysAR6/IllusPathsAR6_plushistRCMIP.csv')\n",
    "#rcmip_ar6_long = pd.melt(rcmip_ar6, id_vars=['Model', 'Scenario', 'Region', 'Variable', 'Unit'], var_name='Year')\n",
    "#plushist_long.drop(columns=['Mip_Era', 'Activity_Id'], inplace=True)\n",
    "#rcmip_alldata = pd.concat([plushist_long, rcmip_ar6_long])\n",
    "\n",
    "#sns.relplot(data=rcmip_alldata, x='Year', y='value', hue='Model')\n",
    "#g = sns.relplot(data=rcmip_alldata, x='Year', y='value', hue='Model')\n",
    "\n",
    "#rcmip_alldata.to_csv('/home/h02/hadcam/github/IllusPathwaysAR6/AR6Ilusplus_RCMIPhist.csv')"
   ]
  },
  {
   "cell_type": "code",
   "execution_count": 19,
   "metadata": {},
   "outputs": [],
   "source": [
    "#new = pd.DataFrame.stack(rcmip_alldata)\n",
    "#new.to_csv('/home/h02/hadcam/github/IllusPathwaysAR6/AR6Ilusplus_RCMIPhist_wide.csv')\n",
    "\n",
    "#rcmip_data_wide.to_csv('/home/h02/hadcam/github/IllusPathwaysAR6/AR6Ilusplus_RCMIPhist.csv')"
   ]
  },
  {
   "cell_type": "code",
   "execution_count": 20,
   "metadata": {},
   "outputs": [
    {
     "name": "stdout",
     "output_type": "stream",
     "text": [
      "265\n",
      "400\n",
      "B1500\n",
      "B1750\n",
      "B2000\n",
      "B2500\n",
      "OS250_000\n",
      "OS250_100\n",
      "OS500_000\n",
      "OS500_100\n",
      "OS1000_000\n",
      "OS1000_100\n"
     ]
    }
   ],
   "source": [
    "# Download illustrative pathways\n",
    "#illuspd = pd.read_csv(\n",
    "#    '/home/h02/hadcam/github/IllusPathwaysAR6/20210928_ar6emissions_harmonized_infilled_c1_c3_IPs_plus_c2.csv')\n",
    "\n",
    "#ssp_df= pd.read_csv('/home/h02/hadcam/github/IllusPathwaysAR6_data/CDR_MIP_emissions.csv')\n",
    "ssp_df= pd.read_csv('/home/h02/hadcam/github/IllusPathwaysAR6_data/ZECMIP_IMPOSE_CDRMIP_emissions.csv')\n",
    "#fill_years = [str(x) for x in range(2100, 2111)]\n",
    "#for yr in fill_years:\n",
    "#    ssp_df.loc[:, yr] = ssp_df[yr].fillna(ssp_df['2100'])\n",
    "\n",
    "years = np.arange(1750, 2151)\n",
    "startyear = 1750\n",
    "first_scenyear = 2015\n",
    "last_scenyear = 2150\n",
    "#years = np.arange(1750, 2111)\n",
    "#startyear = 1750\n",
    "#first_scenyear = 2015\n",
    "#last_scenyear = 2111\n",
    "\n",
    "first_row = int(first_scenyear-startyear)\n",
    "print(first_row)\n",
    "last_row = int(last_scenyear-startyear)\n",
    "print(last_row)\n",
    "\n",
    "species = [  # in fair 1.6, order is important\n",
    "    '|CO2|Energy and Industrial Processes', #'MAGICC Fossil and Industrial',\n",
    "    '|CO2|AFOLU', #'MAGICC AFOLU'\n",
    "    '|CH4',\n",
    "    '|N2O',\n",
    "    '|Sulfur',\n",
    "    '|CO',\n",
    "    '|VOC',\n",
    "    '|NOx',\n",
    "    '|BC',\n",
    "    '|OC',\n",
    "    '|NH3',\n",
    "    '|PFC|CF4',\n",
    "    '|PFC|C2F6',\n",
    "    '|PFC|C6F14',\n",
    "    '|HFC|HFC23',\n",
    "    '|HFC|HFC32',\n",
    "    '|HFC|HFC43-10', # 'HFC4310mee'\n",
    "    '|HFC|HFC125',\n",
    "    '|HFC|HFC134a',\n",
    "    '|HFC|HFC143a',\n",
    "    '|HFC|HFC227ea',\n",
    "    '|HFC|HFC245ca', #'HFC245fa'\n",
    "    '|SF6',\n",
    "    '|CFC11',\n",
    "    '|CFC12',\n",
    "    '|CFC113',\n",
    "    '|CFC114',\n",
    "    '|CFC115',\n",
    "    '|CCl4',\n",
    "    '|CH3CCl3',\n",
    "    '|HCFC22',\n",
    "    '|HCFC141b',\n",
    "    '|HCFC142b',\n",
    "    '|Halon1211',\n",
    "    '|Halon1202',\n",
    "    '|Halon1301',\n",
    "    '|Halon2402',\n",
    "    '|CH3Br',\n",
    "    '|CH3Cl',\n",
    "]\n",
    "\n",
    "# Assume that units coming out of aneris don't change. One day I'll do unit parsing\n",
    "unit_convert = np.ones(40)\n",
    "unit_convert[1] = 12/44/1000\n",
    "unit_convert[2] = 12/44/1000\n",
    "unit_convert[4] = 28/44/1000\n",
    "unit_convert[5] = 32/64\n",
    "unit_convert[8] = 14/46\n",
    "\n",
    "data_out = {}\n",
    "# 'ssp119','ssp126','ssp245','ssp370',ssp434','ssp585''\n",
    "\n",
    "for scenario in scenarios:\n",
    "    print(scenario)\n",
    "    data_out[scenario] = np.ones((401, 40)) * np.nan\n",
    "    #data_out[scenario] = np.ones((361, 40)) * np.nan\n",
    "    data_out[scenario][:,0] = years\n",
    " \n",
    "    for i, specie in enumerate(species):\n",
    "        #print(data_out[scenario].shape,ssp_df.loc[(ssp_df['Region']=='World')&(ssp_df['Scenario']==scenario)&(ssp_df['Variable'].str.endswith(specie)),str(startyear):'2014'].shape)\n",
    "        data_out[scenario][:first_row,i+1] = ssp_df.loc[(ssp_df['Region']=='World')&(ssp_df['Scenario']==scenario)&(ssp_df['Variable'].str.endswith(specie)),str(startyear):'2014']*unit_convert[i+1]\n",
    "        f =  ssp_df.loc[(ssp_df['Region']=='World')&(ssp_df['Scenario']==scenario)&(ssp_df['Variable'].str.endswith(specie)),'2015':'2150'].dropna(axis=1)*unit_convert[i+1]\n",
    "        data_out[scenario][first_row:(last_row+1), i+1] = f\n",
    "        "
   ]
  },
  {
   "cell_type": "code",
   "execution_count": 21,
   "metadata": {},
   "outputs": [
    {
     "data": {
      "text/plain": [
       "<matplotlib.legend.Legend at 0x7f89d64afb80>"
      ]
     },
     "execution_count": 21,
     "metadata": {},
     "output_type": "execute_result"
    },
    {
     "data": {
      "image/png": "[encoded data removed]",
      "text/plain": [
       "<Figure size 432x288 with 1 Axes>"
      ]
     },
     "metadata": {
      "needs_background": "light"
     },
     "output_type": "display_data"
    }
   ],
   "source": [
    "for scenario in scenarios:\n",
    "    pl.plot(np.arange(1750, 2150), data_out[scenario][0:400,2], label=scenario)    \n",
    "pl.axvline(2021, ls=':', color='k')\n",
    "pl.legend(bbox_to_anchor=(1.01, 1), loc='upper left')"
   ]
  },
  {
   "cell_type": "markdown",
   "metadata": {},
   "source": [
    "# Try the first CDRMIP pathway before looping through the rest of them."
   ]
  },
  {
   "cell_type": "code",
   "execution_count": 22,
   "metadata": {},
   "outputs": [],
   "source": [
    "results_out = {}"
   ]
  },
  {
   "cell_type": "code",
   "execution_count": 23,
   "metadata": {},
   "outputs": [],
   "source": [
    "updated_config = []\n",
    "for i, cfg in enumerate(extended_data):\n",
    "    updated_config.append({})\n",
    "    for key, value in cfg.items():\n",
    "        if isinstance(value, list):\n",
    "            updated_config[i][key] = np.asarray(value)\n",
    "        else:\n",
    "            updated_config[i][key] = value\n",
    "    updated_config[i]['emissions'] = data_out['B1500']\n",
    "    updated_config[i]['diagnostics'] = 'AR6'\n",
    "    updated_config[i][\"efficacy\"] = np.ones(45)\n",
    "    updated_config[i][\"gir_carbon_cycle\"] = True\n",
    "    updated_config[i][\"temperature_function\"] = \"Geoffroy\"\n",
    "    updated_config[i][\"aerosol_forcing\"] = \"aerocom+ghan2\"\n",
    "    updated_config[i][\"fixPre1850RCP\"] = False\n",
    "    updated_config[i][\"scale\"][43] = 0.6\n",
    "    updated_config[i][\"F_solar\"] = 0.\n",
    "    updated_config[i][\"F_volcanic\"] = 0.\n",
    "    "
   ]
  },
  {
   "cell_type": "code",
   "execution_count": 24,
   "metadata": {},
   "outputs": [
    {
     "name": "stdout",
     "output_type": "stream",
     "text": [
      "(401, 40)\n",
      "[[1.75000000e+03 2.59244179e-03 4.91700000e-01 ... 0.00000000e+00\n",
      "  1.05087730e+02 4.27574490e+03]\n",
      " [1.75100000e+03 2.59244179e-03 3.89000000e-01 ... 0.00000000e+00\n",
      "  1.05087730e+02 4.27574490e+03]\n",
      " [1.75200000e+03 2.59244179e-03 4.65800000e-01 ... 0.00000000e+00\n",
      "  1.05087730e+02 4.27574490e+03]\n",
      " ...\n",
      " [2.14800000e+03 2.59244179e-03 9.10000000e-03 ... 0.00000000e+00\n",
      "  1.05087730e+02 4.27574490e+03]\n",
      " [2.14900000e+03 2.59244179e-03 1.06000000e-02 ... 0.00000000e+00\n",
      "  1.05087730e+02 4.27574490e+03]\n",
      " [2.15000000e+03 2.59244179e-03 1.06000000e-02 ... 0.00000000e+00\n",
      "  1.05087730e+02 4.27574490e+03]]\n"
     ]
    }
   ],
   "source": [
    "print (updated_config[i]['emissions'].shape)\n",
    "print (updated_config[i]['emissions'])"
   ]
  },
  {
   "cell_type": "code",
   "execution_count": 25,
   "metadata": {},
   "outputs": [
    {
     "name": "stdout",
     "output_type": "stream",
     "text": [
      "(400, 2)\n",
      "400\n",
      "2237\n"
     ]
    },
    {
     "data": {
      "text/plain": [
       "<matplotlib.legend.Legend at 0x7f89cd64c0d0>"
      ]
     },
     "execution_count": 25,
     "metadata": {},
     "output_type": "execute_result"
    },
    {
     "data": {
      "image/png": "[encoded data removed]",
      "text/plain": [
       "<Figure size 432x288 with 1 Axes>"
      ]
     },
     "metadata": {
      "needs_background": "light"
     },
     "output_type": "display_data"
    }
   ],
   "source": [
    "#print(updated_config[i]['natural'])\n",
    "print (updated_config[i]['natural'].shape)\n",
    "#print (updated_config[i]['natural'])\n",
    "print (len(updated_config[i]['natural']))\n",
    "print (len(updated_config))\n",
    "for scenario in scenarios:\n",
    "    pl.plot(np.arange(1750, 2150), updated_config[i]['natural'], label=scenario)    \n",
    "pl.axvline(2021, ls=':', color='k')\n",
    "pl.legend(bbox_to_anchor=(1.01, 1), loc='upper left')"
   ]
  },
  {
   "cell_type": "code",
   "execution_count": 26,
   "metadata": {},
   "outputs": [
    {
     "name": "stderr",
     "output_type": "stream",
     "text": [
      "  0%|                                                                                                                                                                               | 0/2237 [00:00<?, ?it/s]\n"
     ]
    },
    {
     "ename": "ValueError",
     "evalue": "natural emissions should be a 2-element or nt x 2 array",
     "output_type": "error",
     "traceback": [
      "\u001b[0;31m---------------------------------------------------------------------------\u001b[0m",
      "\u001b[0;31mRemoteTraceback\u001b[0m                           Traceback (most recent call last)",
      "\u001b[0;31mRemoteTraceback\u001b[0m: \n\"\"\"\nTraceback (most recent call last):\n  File \"/home/h02/hadcam/.conda/envs/fair-spice/lib/python3.10/multiprocessing/pool.py\", line 125, in worker\n    result = (True, func(*args, **kwds))\n  File \"/var/tmp/ipykernel_114239/181654638.py\", line 2, in run_fair\n    thisC, thisF, thisT, _, thisOHU, _, thisAF = fair.forward.fair_scm(**args)\n  File \"/home/h02/hadcam/.conda/envs/fair-spice/lib/python3.10/site-packages/fair/forward.py\", line 249, in fair_scm\n    raise ValueError(\nValueError: natural emissions should be a 2-element or nt x 2 array\n\"\"\"",
      "\nThe above exception was the direct cause of the following exception:\n",
      "\u001b[0;31mValueError\u001b[0m                                Traceback (most recent call last)",
      "Input \u001b[0;32mIn [26]\u001b[0m, in \u001b[0;36m<cell line: 5>\u001b[0;34m()\u001b[0m\n\u001b[1;32m      5\u001b[0m \u001b[38;5;28;01mif\u001b[39;00m \u001b[38;5;18m__name__\u001b[39m \u001b[38;5;241m==\u001b[39m \u001b[38;5;124m'\u001b[39m\u001b[38;5;124m__main__\u001b[39m\u001b[38;5;124m'\u001b[39m:\n\u001b[1;32m      6\u001b[0m     \u001b[38;5;28;01mwith\u001b[39;00m Pool(\u001b[38;5;241m28\u001b[39m) \u001b[38;5;28;01mas\u001b[39;00m pool:\n\u001b[0;32m----> 7\u001b[0m         result \u001b[38;5;241m=\u001b[39m \u001b[38;5;28;43mlist\u001b[39;49m\u001b[43m(\u001b[49m\u001b[43mtqdm\u001b[49m\u001b[43m(\u001b[49m\u001b[43mpool\u001b[49m\u001b[38;5;241;43m.\u001b[39;49m\u001b[43mimap\u001b[49m\u001b[43m(\u001b[49m\u001b[43mrun_fair\u001b[49m\u001b[43m,\u001b[49m\u001b[43m \u001b[49m\u001b[43mupdated_config\u001b[49m\u001b[43m)\u001b[49m\u001b[43m,\u001b[49m\u001b[43m \u001b[49m\u001b[43mtotal\u001b[49m\u001b[38;5;241;43m=\u001b[39;49m\u001b[38;5;28;43mlen\u001b[39;49m\u001b[43m(\u001b[49m\u001b[43mupdated_config\u001b[49m\u001b[43m)\u001b[49m\u001b[43m)\u001b[49m\u001b[43m)\u001b[49m\n",
      "File \u001b[0;32m~/.conda/envs/fair-spice/lib/python3.10/site-packages/tqdm/std.py:1195\u001b[0m, in \u001b[0;36mtqdm.__iter__\u001b[0;34m(self)\u001b[0m\n\u001b[1;32m   1192\u001b[0m time \u001b[38;5;241m=\u001b[39m \u001b[38;5;28mself\u001b[39m\u001b[38;5;241m.\u001b[39m_time\n\u001b[1;32m   1194\u001b[0m \u001b[38;5;28;01mtry\u001b[39;00m:\n\u001b[0;32m-> 1195\u001b[0m     \u001b[38;5;28;01mfor\u001b[39;00m obj \u001b[38;5;129;01min\u001b[39;00m iterable:\n\u001b[1;32m   1196\u001b[0m         \u001b[38;5;28;01myield\u001b[39;00m obj\n\u001b[1;32m   1197\u001b[0m         \u001b[38;5;66;03m# Update and possibly print the progressbar.\u001b[39;00m\n\u001b[1;32m   1198\u001b[0m         \u001b[38;5;66;03m# Note: does not call self.update(1) for speed optimisation.\u001b[39;00m\n",
      "File \u001b[0;32m~/.conda/envs/fair-spice/lib/python3.10/multiprocessing/pool.py:870\u001b[0m, in \u001b[0;36mIMapIterator.next\u001b[0;34m(self, timeout)\u001b[0m\n\u001b[1;32m    868\u001b[0m \u001b[38;5;28;01mif\u001b[39;00m success:\n\u001b[1;32m    869\u001b[0m     \u001b[38;5;28;01mreturn\u001b[39;00m value\n\u001b[0;32m--> 870\u001b[0m \u001b[38;5;28;01mraise\u001b[39;00m value\n",
      "\u001b[0;31mValueError\u001b[0m: natural emissions should be a 2-element or nt x 2 array"
     ]
    }
   ],
   "source": [
    "def run_fair(args):\n",
    "    thisC, thisF, thisT, _, thisOHU, _, thisAF = fair.forward.fair_scm(**args)\n",
    "    return (thisC[:,0], thisT, np.sum(thisF[:,:43], axis=1), np.sum(thisF[:,35:41], axis=1), np.sum(thisF, axis=1))\n",
    "\n",
    "if __name__ == '__main__':\n",
    "    with Pool(28) as pool:\n",
    "        result = list(tqdm(pool.imap(run_fair, updated_config), total=len(updated_config)))"
   ]
  },
  {
   "cell_type": "code",
   "execution_count": null,
   "metadata": {},
   "outputs": [],
   "source": [
    "len(result[0])"
   ]
  },
  {
   "cell_type": "code",
   "execution_count": null,
   "metadata": {},
   "outputs": [],
   "source": [
    "len(updated_config)"
   ]
  },
  {
   "cell_type": "code",
   "execution_count": null,
   "metadata": {},
   "outputs": [],
   "source": [
    "result_t = np.array(result).transpose(1,2,0)"
   ]
  },
  {
   "cell_type": "code",
   "execution_count": null,
   "metadata": {},
   "outputs": [],
   "source": [
    "results_out['B1500'] = {}\n",
    "c, t, f_ant, f_aer, f_tot = result_t\n",
    "#temp_rebase = t - t[100:151,:].mean(axis=0)\n",
    "results_out['B1500']['co2_conc'] = c\n",
    "results_out['B1500']['temp'] = t\n",
    "results_out['B1500']['F_ant'] = f_ant\n",
    "results_out['B1500']['F_aer'] = f_aer\n",
    "results_out['B1500']['F_tot'] = f_tot"
   ]
  },
  {
   "cell_type": "code",
   "execution_count": null,
   "metadata": {},
   "outputs": [],
   "source": [
    "#temp_df = pd.read_csv('../data_input/observations/temp.csv', index_col=0)\n",
    "#temp_df\n",
    "\n",
    "for perc in [0,5,10,20,25,50,75,90,100]:\n",
    "    pl.plot(np.arange(1750,2111),np.percentile(t,perc, axis=1), color='k')\n"
   ]
  },
  {
   "cell_type": "code",
   "execution_count": null,
   "metadata": {},
   "outputs": [],
   "source": [
    "pl.fill_between(np.arange(1750,2111), np.percentile(results_out['B1500']['temp'], 5, axis=1), np.percentile(results_out['B1500']['temp'], 95, axis=1))\n",
    "pl.plot(np.arange(1750,2111), np.percentile(results_out['B1500']['temp'], 50, axis=1), color='k')\n",
    "#pl.plot(temp_df.index, temp_df.temp, color='r')\n",
    "#pl.ylim(0.0, 1.7)\n",
    "#pl.xlim(1950, 2030)\n",
    "pl.grid()"
   ]
  },
  {
   "cell_type": "code",
   "execution_count": null,
   "metadata": {},
   "outputs": [],
   "source": [
    "pl.fill_between(np.arange(1750,2111), np.percentile(results_out['B1500']['co2_conc'], 5, axis=1), np.percentile(results_out['B1500']['co2_conc'], 95, axis=1))\n",
    "pl.plot(np.arange(1750,2111), np.percentile(results_out['B1500']['co2_conc'], 50, axis=1), color='k')\n",
    "#pl.plot(temp_df.index, temp_df.temp, color='r')\n",
    "#pl.ylim(0.0, 1.7)\n",
    "#pl.xlim(1950, 2030)\n",
    "pl.grid()"
   ]
  },
  {
   "cell_type": "code",
   "execution_count": null,
   "metadata": {},
   "outputs": [],
   "source": [
    "for perc in [0,5,10,20,25,50,75,90,100]:\n",
    "    pl.plot(np.arange(1750,2111),np.percentile(c,perc, axis=1), color='k')\n",
    "pl.grid()"
   ]
  },
  {
   "cell_type": "code",
   "execution_count": null,
   "metadata": {},
   "outputs": [],
   "source": [
    "pl.fill_between(np.arange(1750,2111), np.percentile(f_ant, 5, axis=1), np.percentile(f_ant, 95, axis=1))\n",
    "pl.plot(np.arange(1750,2111), np.percentile(f_ant, 50, axis=1), color='k')\n",
    "pl.grid()"
   ]
  },
  {
   "cell_type": "code",
   "execution_count": null,
   "metadata": {},
   "outputs": [],
   "source": [
    "pl.fill_between(np.arange(1750,2111), np.percentile(f_aer, 5, axis=1), np.percentile(f_aer, 95, axis=1))\n",
    "pl.plot(np.arange(1750,2111), np.percentile(f_aer, 50, axis=1), color='k')\n",
    "pl.grid()"
   ]
  },
  {
   "cell_type": "code",
   "execution_count": null,
   "metadata": {},
   "outputs": [],
   "source": [
    "np.median(results_out['B1500']['temp'], axis=1)[245:265].mean()"
   ]
  },
  {
   "cell_type": "code",
   "execution_count": null,
   "metadata": {},
   "outputs": [],
   "source": [
    "# aerosol forcing is a little less negative than in WG3 because we use CEDS-updated not SSP historical\n",
    "print(\n",
    "    np.percentile(results_out['B1500']['F_aer'], 5, axis=1)[255:265].mean(),\n",
    "    np.percentile(results_out['B1500']['F_aer'], 50, axis=1)[255:265].mean(),\n",
    "    np.percentile(results_out['B1500']['F_aer'], 95, axis=1)[255:265].mean()\n",
    ")"
   ]
  },
  {
   "cell_type": "code",
   "execution_count": null,
   "metadata": {},
   "outputs": [],
   "source": [
    "pl.fill_between(np.arange(1750,2111), np.percentile(results_out['B1500']['temp'], 5, axis=1), np.percentile(results_out['B1500']['temp'], 95, axis=1))\n",
    "pl.plot(np.arange(1750,2111), np.percentile(results_out['B1500']['temp'], 50, axis=1), color='k')\n",
    "#pl.plot(temp_df.index, temp_df.temp, color='r')\n",
    "#pl.ylim(0.0, 1.7)\n",
    "#pl.xlim(1950, 2030)\n",
    "pl.grid()"
   ]
  },
  {
   "cell_type": "markdown",
   "metadata": {
    "tags": []
   },
   "source": [
    "# Loop through the other cdrmip pathways"
   ]
  },
  {
   "cell_type": "code",
   "execution_count": null,
   "metadata": {},
   "outputs": [],
   "source": [
    "results_out = {}\n",
    "for scenario in scenarios:\n",
    "    print (scenario)\n",
    "    results_out[scenario]={}\n",
    "    \n",
    "    updated_config = []\n",
    "    for i, cfg in enumerate(extended_data):\n",
    "        updated_config.append({})\n",
    "        for key, value in cfg.items():\n",
    "            if isinstance(value, list):\n",
    "                updated_config[i][key] = np.asarray(value)\n",
    "            else:\n",
    "                updated_config[i][key] = value\n",
    "        updated_config[i]['emissions'] = data_out[scenario]\n",
    "        updated_config[i]['diagnostics'] = 'AR6'\n",
    "        updated_config[i][\"efficacy\"] = np.ones(45)\n",
    "        updated_config[i][\"gir_carbon_cycle\"] = True\n",
    "        updated_config[i][\"temperature_function\"] = \"Geoffroy\"\n",
    "        updated_config[i][\"aerosol_forcing\"] = \"aerocom+ghan2\"\n",
    "        updated_config[i][\"fixPre1850RCP\"] = False\n",
    "        updated_config[i][\"scale\"][43] = 0.6\n",
    "        updated_config[i][\"F_solar\"] = 0.\n",
    "        updated_config[i][\"F_volcanic\"] = 0.\n",
    "    \n",
    "    def run_fair(args):\n",
    "        thisC, thisF, thisT, _, thisOHU, _, thisAF = fair.forward.fair_scm(**args)\n",
    "        return (thisC[:,0], thisT, np.sum(thisF[:,:43], axis=1), np.sum(thisF[:,35:41], axis=1), np.sum(thisF, axis=1))\n",
    "\n",
    "    if __name__ == '__main__':\n",
    "        with Pool(28) as pool:\n",
    "            result = list(tqdm(pool.imap(run_fair, updated_config), total=len(updated_config)))\n",
    "    \n",
    "    results_out[scenario] = {}\n",
    "    result_t = np.array(result).transpose(1,2,0)\n",
    "    c, t, f_ant, f_aer, f_tot = result_t\n",
    "    temp_rebase = t - t[100:151,:].mean(axis=0)\n",
    "    temp_rebase_1995_2014 = t - t[245:265,:].mean(axis=0) # subtract 1995-2014 mean  \n",
    "    \n",
    "    results_out[scenario]['co2_conc'] = c\n",
    "    results_out[scenario]['temp'] = t\n",
    "    #results_out[scenario]['temp'] = temp_rebase\n",
    "    #results_out[scenario]['temp_2'] = temp_rebase_1995_2014\n",
    "    results_out[scenario]['F_ant'] = f_ant\n",
    "    results_out[scenario]['F_aer'] = f_aer\n",
    "    results_out[scenario]['F_tot'] = f_tot\n",
    "\n",
    "    pl.fill_between(np.arange(1750,2111), np.percentile(results_out[scenario]['temp'], 5, axis=1), np.percentile(results_out[scenario]['temp'], 95, axis=1),alpha=0.2)\n",
    "    pl.plot(np.arange(1750,2111), np.percentile(results_out[scenario]['temp'], 50, axis=1))\n",
    "    pl.grid()\n",
    "    "
   ]
  },
  {
   "cell_type": "code",
   "execution_count": null,
   "metadata": {},
   "outputs": [],
   "source": [
    "for scenario in scenarios:\n",
    "    print (scenario)\n",
    "    pl.fill_between(np.arange(1750,2111), np.percentile(results_out[scenario]['temp'], 5, axis=1), \n",
    "                    np.percentile(results_out[scenario]['temp'], 95, axis=1))\n",
    "    pl.plot(np.arange(1750,2111), np.percentile(results_out[scenario]['temp'], 50, axis=1), color='k')\n",
    "    #pl.plot(temp_df.index, temp_df.temp, color='r')\n",
    "    pl.grid()\n",
    "    pl.pause(5)\n",
    "   "
   ]
  },
  {
   "cell_type": "markdown",
   "metadata": {},
   "source": [
    "# All on the same plot!"
   ]
  },
  {
   "cell_type": "code",
   "execution_count": null,
   "metadata": {},
   "outputs": [],
   "source": [
    "\n",
    "#B1500       1802.9\n",
    "#B1750       1995.767\n",
    "#B2000       1499.667\n",
    "#B2500       2575.467\n",
    "#OS250_000   1995.767\n",
    "#OS250_100   1995.767\n",
    "#OS500_000   1499.667\n",
    "#OS500_100   1499.667\n",
    "#OS1000_000  2575.467\n",
    "#OS1000_100  2575.467\n",
    "\n"
   ]
  },
  {
   "cell_type": "code",
   "execution_count": null,
   "metadata": {},
   "outputs": [],
   "source": [
    "#LIST OF SCENARIOS:'B1500','B1750','B2000','B2500',\n",
    "#                  'OS250_000', 'OS250_100',\n",
    "#                  'OS500_000', 'OS500_100',\n",
    "#                  'OS1000_000','OS1000_100'\n",
    "\n",
    "\n",
    "colors = {'B1500':'gold',\n",
    "          'B1750':'blue',\n",
    "          'B2000':'cyan',\n",
    "          'B2500':'red',\n",
    "          'OS250_000':'blue', \n",
    "          'OS250_100':'blue',\n",
    "          'OS500_000':'cyan', \n",
    "          'OS500_100':'cyan',\n",
    "          'OS1000_000':'red',\n",
    "          'OS1000_100':'red'\n",
    "         }\n",
    "\n",
    "labels = {'B1500':'B1500',\n",
    "          'B1750':'B1750',\n",
    "          'B2000':'B2000',\n",
    "          'B2500':'B2500',\n",
    "          'OS250_000':'OS250_000', \n",
    "          'OS250_100':'OS250_100',\n",
    "          'OS500_000':'OS500_000', \n",
    "          'OS500_100':'OS500_100',\n",
    "          'OS1000_000':'OS1000_000',\n",
    "          'OS1000_100':'OS1000_100'\n",
    "         }\n",
    "\n",
    "linestyle = {'B1500':'solid',\n",
    "          'B1750':'solid',\n",
    "          'B2000':'solid',\n",
    "          'B2500':'solid',\n",
    "          'OS250_000':'dashed', \n",
    "          'OS250_100':'dotted',\n",
    "          'OS500_000':'dashed', \n",
    "          'OS500_100':'dotted',\n",
    "          'OS1000_000':'dashed',\n",
    "          'OS1000_100':'dotted'\n",
    "            }\n",
    "\n"
   ]
  },
  {
   "cell_type": "code",
   "execution_count": null,
   "metadata": {
    "scrolled": true,
    "tags": []
   },
   "outputs": [],
   "source": [
    "fig, ax = pl.subplots(figsize=(12, 10))\n",
    "\n",
    "ax.tick_params(axis='both', which='major', labelsize=18)\n",
    "ax.tick_params(axis='both', which='minor', labelsize=18)\n",
    "ax.text(0.02, 0.94, 'Scenario', fontweight='bold', fontsize=15, transform=ax.transAxes)\n",
    "for i, scenario in enumerate(scenarios):\n",
    "    ax.fill_between(np.arange(1750,2111), np.percentile(results_out[scenario]['temp'][0:361,:], 5, axis=1), np.percentile(results_out[scenario]['temp'][0:361,:], 95, axis=1), color=colors[scenario], alpha=0.2)\n",
    "    ax.plot(np.arange(1750, 2111), np.median(results_out[scenario]['temp'][0:361,:] , axis=1), color=colors[scenario], label=labels[scenario], linestyle=linestyle[scenario])\n",
    "    ax.text(0.02, 0.88-0.06*i, labels[scenario], color=colors[scenario], transform=ax.transAxes, fontsize=15)\n",
    "#ax.legend(fontsize=10);\n",
    "ax.set_ylabel('°C ', fontsize=18);\n",
    "ax.set_title('Global warming associated with different CDRMIP pathways', fontsize=18);\n",
    "ax.set_xlim(1750, 2100)\n",
    "#ax.set_ylim(-0.5, 1.5)\n",
    "\n",
    "from matplotlib import ticker\n",
    "\n",
    "#ax1 = ax.twinx()\n",
    "#positions = np.arange(0.75, 2.76, 0.25)\n",
    "\n",
    "#ax1.yaxis.set_major_locator(ticker.FixedLocator(positions))\n",
    "\n",
    "#ax1.set_ylim(0.75,2.75)\n",
    "#ax1.spines['right'].set_color('gray')\n",
    "#ax1.tick_params(axis='y', colors='gray')\n",
    "#ax1.set_ylabel('°C relative to 1850-1900', color='gray', fontsize=18)\n",
    "\n",
    "\n",
    "#ax.axhline(0, ls=':', color='k', lw=0.5)\n",
    "#ax1.axhline(1.5, ls='-.', color='k', lw=0.5)\n",
    "#ax1.axhline(1.75, ls='-.', color='k', lw=0.5)\n",
    "#ax1.axhline(2.0, ls='-', color='k', lw=0.5)\n",
    "fig.tight_layout()\n",
    "pl.savefig('../plots/cdrmip_temps.png', dpi=500, transparent=False)"
   ]
  },
  {
   "cell_type": "markdown",
   "metadata": {},
   "source": [
    "# All on the same plot CO2 conc!"
   ]
  },
  {
   "cell_type": "code",
   "execution_count": null,
   "metadata": {},
   "outputs": [],
   "source": [
    "fig, ax = pl.subplots(figsize=(12, 10))\n",
    "ax.tick_params(axis='both', which='major', labelsize=18)\n",
    "ax.tick_params(axis='both', which='minor', labelsize=18)\n",
    "ax.text(0.02, 0.94, 'Scenario', fontweight='bold', fontsize=15, transform=ax.transAxes)\n",
    "for i, scenario in enumerate(scenarios):\n",
    "    ax.fill_between(np.arange(1750,2111), np.percentile(results_out[scenario]['co2_conc'][0:361,:] , 5, axis=1), np.percentile(results_out[scenario]['co2_conc'][0:361,:] , 95, axis=1), color=colors[scenario], alpha=0.2)\n",
    "    ax.plot(np.arange(1750, 2111), np.median(results_out[scenario]['co2_conc'][0:361,:] , axis=1), color=colors[scenario], label=labels[scenario],linestyle=linestyle[scenario])\n",
    "    ax.text(0.02, 0.88-0.06*i, labels[scenario], color=colors[scenario], transform=ax.transAxes, fontsize=15)\n",
    "#ax.legend(fontsize=10);\n",
    "ax.set_ylabel(r'CO${_2}$ concentration (ppm)', fontsize=20);\n",
    "ax.set_title(r'CO${_2}$ concentration associated with different CDRMIP scenarios', fontsize=20);\n",
    "ax.set_xlim(1750, 2100)\n",
    "#ax.set_ylim(-0.5, 1.5)\n",
    "\n",
    "fig.tight_layout()\n",
    "pl.savefig('../plots/cdrmip_CO2conc.png', dpi=500, transparent=False)"
   ]
  },
  {
   "cell_type": "markdown",
   "metadata": {},
   "source": [
    "# All on the same plot ERF!"
   ]
  },
  {
   "cell_type": "code",
   "execution_count": null,
   "metadata": {
    "tags": []
   },
   "outputs": [],
   "source": [
    "fig, ax = pl.subplots(figsize=(12, 10))\n",
    "ax.tick_params(axis='both', which='major', labelsize=18)\n",
    "ax.tick_params(axis='both', which='minor', labelsize=18)\n",
    "ax.text(0.02, 0.94, 'Scenario', fontweight='bold', fontsize=10, transform=ax.transAxes)\n",
    "for i, scenario in enumerate(scenarios):\n",
    "    ax.fill_between(np.arange(1750,2111), np.percentile(results_out[scenario]['F_tot'][0:361,:] , 5, axis=1), np.percentile(results_out[scenario]['F_tot'][0:361], 95, axis=1), color=colors[scenario], alpha=0.2)\n",
    "    ax.plot(np.arange(1750, 2111), np.median(results_out[scenario]['F_tot'][0:361,:] , axis=1), color=colors[scenario], linestyle=linestyle[scenario],label=labels[scenario])\n",
    "    ax.text(0.02, 0.88-0.06*i, labels[scenario], color=colors[scenario], transform=ax.transAxes, fontsize=10)\n",
    "#ax.legend(fontsize=10);\n",
    "ax.set_ylabel(r'Radiative Forcing (Wm${^-2}$)');\n",
    "ax.set_title('Effective Radiative Forcing associated with different ssp scenarios');\n",
    "ax.set_xlim(1750, 2111)\n",
    "#ax.set_ylim(-0.5, 1.5)\n",
    "\n",
    "fig.tight_layout()\n",
    "pl.savefig('../plots/cdrmip_erf.png', dpi=500, transparent=False)"
   ]
  },
  {
   "cell_type": "code",
   "execution_count": null,
   "metadata": {},
   "outputs": [],
   "source": [
    "# Output to csv, first create a dataframe \n",
    "model_archive = '../csv_FaIRoutputfiles/'\n",
    "print (scenarios)\n",
    "print \n",
    "\n",
    "if os.path.isdir(model_archive):\n",
    "    print(\"Item already exists\")\n",
    "else:\n",
    "    os.mkdir(model_archive)\n",
    "    print (\"Making the model directory\")\n",
    "    \n",
    "#model_dir = model_archive+scenario+'/'\n",
    "    \n",
    "\n",
    "for scenario in scenarios:\n",
    "    for variable in results_out[scenario].keys():\n",
    "        years = 1750+np.arange(len(results_out[scenario][variable]))\n",
    "        header_text = np.insert(years, 0, 0)\n",
    "        dic = results_out[scenario][variable]\n",
    "        \n",
    "        \n",
    "        IMPs = {'B1500':'B1500',\n",
    "          'B1750':'B1750',\n",
    "          'B2000':'B2000',\n",
    "          'B2500':'B2500',\n",
    "          'OS250_000':'OS250_000', \n",
    "          'OS250_100':'OS250_100',\n",
    "          'OS500_000':'OS500_000', \n",
    "          'OS500_100':'OS500_100',\n",
    "          'OS1000_000':'OS1000_000',\n",
    "          'OS1000_100':'OS1000_100'\n",
    "                }\n",
    "        \n",
    "        \n",
    "        filename='../csv_FaIRoutput_AllCDRMIP/cdrmip_'+IMPs[scenario]+'_'+variable+'_csv'\n",
    "        print(filename)\n",
    "        pd.DataFrame(dic).T.reset_index().to_csv(filename, header=header_text, index=False)"
   ]
  },
  {
   "cell_type": "code",
   "execution_count": null,
   "metadata": {},
   "outputs": [],
   "source": []
  }
 ],
 "metadata": {
  "kernelspec": {
   "display_name": "Python 3 (ipykernel)",
   "language": "python",
   "name": "python3"
  },
  "language_info": {
   "codemirror_mode": {
    "name": "ipython",
    "version": 3
   },
   "file_extension": ".py",
   "mimetype": "text/x-python",
   "name": "python",
   "nbconvert_exporter": "python",
   "pygments_lexer": "ipython3",
   "version": "3.10.4"
  }
 },
 "nbformat": 4,
 "nbformat_minor": 4
}
