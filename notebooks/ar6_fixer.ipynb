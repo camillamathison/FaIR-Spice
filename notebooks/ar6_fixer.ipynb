{
 "cells": [
  {
   "cell_type": "markdown",
   "metadata": {},
   "source": [
    "### AR6 CSV Fixer"
   ]
  },
  {
   "cell_type": "code",
   "execution_count": 62,
   "metadata": {},
   "outputs": [],
   "source": [
    "import pandas as pd\n",
    "import numpy as np\n",
    "\n",
    "df = pd.read_csv(\"/home/h02/hadcam/github/IllusPathwaysAR6/AR6Ilusplus_RCMIPhist.csv\")\n",
    "df.drop(columns='Unnamed: 0', inplace=True)\n",
    "df_p = df.set_index(['Model', 'Scenario', 'Region', 'Variable', 'Unit', 'Year'])['value'].unstack().reset_index()\n",
    "df_p.sort_values('Model', inplace=True)\n",
    "df_p = df_p.rename_axis(None, axis=1).reset_index()\n",
    "df_p.drop(columns='index', inplace=True)"
   ]
  },
  {
   "cell_type": "markdown",
   "metadata": {},
   "source": [
    "### Removing Historical Fields that don't match up to AR6 "
   ]
  },
  {
   "cell_type": "code",
   "execution_count": 63,
   "metadata": {},
   "outputs": [],
   "source": [
    "removals = ['AR6 climate diagnostics|Infilled|', 'F-Gases|', 'Montreal Gases|CFC|', 'Montreal Gases|']\n",
    "\n",
    "df_p['Variable'] = df_p['Variable'].astype(str)\n",
    "for y in removals:\n",
    "    df_p['Variable'] = df_p['Variable'].apply(lambda x: x.replace(y, ''))\n",
    "\n",
    "df_AR6 = df_p.loc[df_p['Model'] == 'AIM/CGE 2.2']"
   ]
  },
  {
   "cell_type": "code",
   "execution_count": 64,
   "metadata": {},
   "outputs": [],
   "source": [
    "# isolating the extra variables we don't want and removing them\n",
    "df_badvars = df_p[~df_p.Variable.isin(df_AR6.Variable)]\n",
    "df_new = df_p[~df_p.Variable.isin(df_badvars.Variable)]\n",
    "df_new = df_new.drop(df_new.index[df_new['Region'] != 'World'])"
   ]
  },
  {
   "cell_type": "code",
   "execution_count": 65,
   "metadata": {},
   "outputs": [
    {
     "name": "stdout",
     "output_type": "stream",
     "text": [
      "Amount dropped = 754\n"
     ]
    }
   ],
   "source": [
    "if len(df_new) == len(df_p):\n",
    "    print(\"Didn't work\")\n",
    "else:\n",
    "    print(f\"Amount dropped = {abs(len(df_new) - len(df_p))}\")"
   ]
  },
  {
   "cell_type": "code",
   "execution_count": 66,
   "metadata": {},
   "outputs": [
    {
     "name": "stdout",
     "output_type": "stream",
     "text": [
      "COFFEE 1.1                   104\n",
      "AIM/CGE 2.2                   52\n",
      "MESSAGEix-GLOBIOM 1.0         52\n",
      "MESSAGEix-GLOBIOM_GEI 1.0     52\n",
      "REMIND-MAgPIE 2.1-4.2         52\n",
      "REMIND-MAgPIE 2.1-4.3         52\n",
      "WITCH 5.0                     52\n",
      "CEDS/UVA/GCP/PRIMAP           48\n",
      "Name: Model, dtype: int64\n"
     ]
    }
   ],
   "source": [
    "print(df_new['Model'].value_counts())"
   ]
  },
  {
   "cell_type": "code",
   "execution_count": 67,
   "metadata": {},
   "outputs": [],
   "source": [
    "hist = df_new.loc[df_new['Model'] == 'CEDS/UVA/GCP/PRIMAP']\n",
    "\n",
    "x = [x for x in hist.Variable]\n",
    "y = [x for x in df_AR6.Variable]"
   ]
  },
  {
   "cell_type": "markdown",
   "metadata": {},
   "source": [
    "##### Checking for missing variables"
   ]
  },
  {
   "cell_type": "code",
   "execution_count": 68,
   "metadata": {},
   "outputs": [
    {
     "name": "stdout",
     "output_type": "stream",
     "text": [
      "Number of historical vars missing: 4\n",
      "\n",
      "Vars missing: \n",
      "['Emissions|HFC|HFC43-10', 'Emissions|HFC|HFC245ca', 'Emissions|CO2|AFOLU', 'Emissions|CO2|Energy and Industrial Processes']\n"
     ]
    }
   ],
   "source": [
    "unique = [k for k in y if k not in x]\n",
    "\n",
    "print(f'Number of historical vars missing: {len(unique)}')\n",
    "print(f'\\nVars missing: \\n{unique}')"
   ]
  },
  {
   "cell_type": "markdown",
   "metadata": {},
   "source": [
    "##### Dropping missing variables from the rest of the dataframe (CHECK)"
   ]
  },
  {
   "cell_type": "code",
   "execution_count": 69,
   "metadata": {},
   "outputs": [
    {
     "name": "stdout",
     "output_type": "stream",
     "text": [
      "Number of historical vars missing: 0\n",
      "\n",
      "Vars missing: \n",
      "[]\n"
     ]
    }
   ],
   "source": [
    "for x in unique:\n",
    "    df_new = df_new.drop(df_new.index[df_new['Variable'] == x])\n",
    "    \n",
    "hist = df_new.loc[df_new['Model'] == 'CEDS/UVA/GCP/PRIMAP']\n",
    "x = [x for x in hist.Variable]\n",
    "y = [x for x in df_new.Variable]\n",
    "\n",
    "unique = [k for k in y if k not in x]\n",
    "\n",
    "print(f'Number of historical vars missing: {len(unique)}')\n",
    "print(f'\\nVars missing: \\n{unique}')"
   ]
  },
  {
   "cell_type": "markdown",
   "metadata": {},
   "source": [
    "Check there are equal amounts of vars per scenario:"
   ]
  },
  {
   "cell_type": "code",
   "execution_count": 70,
   "metadata": {},
   "outputs": [
    {
     "name": "stdout",
     "output_type": "stream",
     "text": [
      "All scenarios have equal amounts of variables: \n",
      "\n",
      "EN_NPi2020_900f                  48\n",
      "historical                       48\n",
      "EN_NPi2020_400f_lowBECCS         48\n",
      "EN_INDCi2030_500f                48\n",
      "LowEnergyDemand_1.3_IPCC         48\n",
      "SSP2_openres_lc_50               48\n",
      "SusDev_SDP-PkBudg1000            48\n",
      "DeepElec_SSP2_ HighRE_Budg900    48\n",
      "CO_Bridge                        48\n",
      "Name: Scenario, dtype: int64\n"
     ]
    }
   ],
   "source": [
    "counts = df_new['Scenario'].value_counts()\n",
    "for i in range(1, len(counts)):\n",
    "    if counts[i] == counts [i-1]:\n",
    "        continue\n",
    "    else:\n",
    "        raise ValueError('Scenarios have differing amounts of variables.')\n",
    "\n",
    "print(f'All scenarios have equal amounts of variables: \\n\\n{counts}')"
   ]
  },
  {
   "cell_type": "markdown",
   "metadata": {},
   "source": [
    "Now we need to tile the historical data over each scenario from 1750 - 2014.."
   ]
  },
  {
   "cell_type": "code",
   "execution_count": 71,
   "metadata": {},
   "outputs": [],
   "source": [
    "# get the historical data per year\n",
    "for yr in range(1750, 2015):\n",
    "    hist_data = hist[yr]\n",
    "    hist_tiled = np.tile(hist_data, len(df_new['Scenario'].value_counts()))\n",
    "    df_new[yr] = hist_tiled\n",
    "    if len(df_new[yr]) == len(df_new['Model']):\n",
    "        continue\n",
    "    else:\n",
    "        ValueError('Tiling did not work properly.')\n"
   ]
  },
  {
   "cell_type": "markdown",
   "metadata": {},
   "source": [
    "Now delete historical-data-only rows:"
   ]
  },
  {
   "cell_type": "code",
   "execution_count": 72,
   "metadata": {},
   "outputs": [
    {
     "name": "stdout",
     "output_type": "stream",
     "text": [
      "Great success!\n"
     ]
    }
   ],
   "source": [
    "df_new = df_new.drop(df_new.index[df_new['Scenario'] == 'historical'])\n",
    "\n",
    "if 'historical' not in df_new['Scenario']:\n",
    "    print('Great success!')"
   ]
  },
  {
   "cell_type": "markdown",
   "metadata": {},
   "source": [
    "##### Finally, read to CSV"
   ]
  },
  {
   "cell_type": "code",
   "execution_count": 73,
   "metadata": {},
   "outputs": [],
   "source": [
    "df_new.to_csv('AR6Illus_RCMIP.csv')"
   ]
  }
 ],
 "metadata": {
  "kernelspec": {
   "display_name": "Python 3.9.10 64-bit",
   "language": "python",
   "name": "python3"
  },
  "language_info": {
   "codemirror_mode": {
    "name": "ipython",
    "version": 3
   },
   "file_extension": ".py",
   "mimetype": "text/x-python",
   "name": "python",
   "nbconvert_exporter": "python",
   "pygments_lexer": "ipython3",
   "version": "3.9.10"
  },
  "vscode": {
   "interpreter": {
    "hash": "b9fe9dcecc3d03d190f8b1270fd0a1e2b5aeb095945216abe1e8fd9aab1fd177"
   }
  }
 },
 "nbformat": 4,
 "nbformat_minor": 4
}
