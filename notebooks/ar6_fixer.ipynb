{
 "cells": [
  {
   "cell_type": "markdown",
   "metadata": {},
   "source": [
    "### AR6 CSV Fixer"
   ]
  },
  {
   "cell_type": "markdown",
   "metadata": {},
   "source": [
    "#### This part un-melds the data into 'wide' format"
   ]
  },
  {
   "cell_type": "code",
   "execution_count": 5,
   "metadata": {},
   "outputs": [],
   "source": [
    "import pandas as pd\n",
    "import numpy as np\n",
    "\n",
    "df = pd.read_csv(\"/net/home/h04/gmunday/Desktop/CSSPBrazil/FaIR/AR6Ilusplus_RCMIPhist.csv\")\n",
    "df.drop(columns='Unnamed: 0', inplace=True)\n",
    "df_p = df.set_index(['Model', 'Scenario', 'Region', 'Variable', 'Unit', 'Year'])['value'].unstack().reset_index()\n",
    "df_p.sort_values('Model', inplace=True)\n",
    "df_p = df_p.rename_axis(None, axis=1).reset_index()\n",
    "df_p.drop(columns='index', inplace=True)"
   ]
  },
  {
   "cell_type": "markdown",
   "metadata": {},
   "source": [
    "### Removing Historical Fields that don't match up with AR6 "
   ]
  },
  {
   "cell_type": "code",
   "execution_count": 6,
   "metadata": {},
   "outputs": [],
   "source": [
    "removals = ['AR6 climate diagnostics|Infilled|', 'F-Gases|', 'Montreal Gases|CFC|', 'Montreal Gases|']\n",
    "hfc_changes = ['HFC245fa', 'HFC4310mee']\n",
    "hfc_correct = ['HFC245ca', 'HFC43-10']\n",
    "co2_changes = ['MAGICC AFOLU', 'MAGICC Fossil and Industrial']\n",
    "co2_correct = ['AFOLU', 'Energy and Industrial Processes']\n",
    "\n",
    "df_p['Variable'] = df_p['Variable'].astype(str)\n",
    "for y in removals:\n",
    "    df_p['Variable'] = df_p['Variable'].apply(lambda x: x.replace(y, ''))   \n",
    "    \n",
    "for i, y in enumerate(hfc_changes):\n",
    "    df_p['Variable'] = df_p['Variable'].apply(lambda x: x.replace(y, hfc_correct[i]))\n",
    "\n",
    "for i, y in enumerate(co2_changes):\n",
    "    df_p['Variable'] = df_p['Variable'].apply(lambda x: x.replace(y, co2_correct[i]))\n",
    "\n",
    "df_AR6 = df_p.loc[df_p['Model'] == 'AIM/CGE 2.2']"
   ]
  },
  {
   "cell_type": "code",
   "execution_count": 7,
   "metadata": {},
   "outputs": [],
   "source": [
    "# isolating the extra variables we don't want and removing them\n",
    "df_badvars = df_p[~df_p.Variable.isin(df_AR6.Variable)]\n",
    "df_new = df_p[~df_p.Variable.isin(df_badvars.Variable)]\n",
    "df_new = df_new.drop(df_new.index[df_new['Region'] != 'World'])"
   ]
  },
  {
   "cell_type": "code",
   "execution_count": 8,
   "metadata": {},
   "outputs": [
    {
     "name": "stdout",
     "output_type": "stream",
     "text": [
      "Amount dropped = 750\n"
     ]
    }
   ],
   "source": [
    "if len(df_new) == len(df_p):\n",
    "    print(\"Didn't work\")\n",
    "else:\n",
    "    print(f\"Amount dropped = {abs(len(df_new) - len(df_p))}\")"
   ]
  },
  {
   "cell_type": "code",
   "execution_count": 9,
   "metadata": {},
   "outputs": [],
   "source": [
    "hist = df_new.loc[df_new['Model'] == 'CEDS/UVA/GCP/PRIMAP']\n",
    "\n",
    "x = [x for x in hist.Variable]\n",
    "y = [x for x in df_AR6.Variable]"
   ]
  },
  {
   "cell_type": "markdown",
   "metadata": {},
   "source": [
    "##### Checking for missing variables"
   ]
  },
  {
   "cell_type": "code",
   "execution_count": 10,
   "metadata": {},
   "outputs": [
    {
     "name": "stdout",
     "output_type": "stream",
     "text": [
      "Number of historical vars missing: 0\n",
      "\n",
      "Vars missing: \n",
      "[]\n"
     ]
    }
   ],
   "source": [
    "unique = [k for k in y if k not in x]\n",
    "\n",
    "print(f'Number of historical vars missing: {len(unique)}')\n",
    "print(f'\\nVars missing: \\n{unique}')"
   ]
  },
  {
   "cell_type": "markdown",
   "metadata": {},
   "source": [
    "##### Dropping missing variables from the rest of the dataframe (CHECK)"
   ]
  },
  {
   "cell_type": "code",
   "execution_count": 11,
   "metadata": {},
   "outputs": [
    {
     "name": "stdout",
     "output_type": "stream",
     "text": [
      "[]\n",
      "Number of historical vars missing: 0\n",
      "\n",
      "Vars missing: \n",
      "[]\n"
     ]
    }
   ],
   "source": [
    "for x in unique:\n",
    "    df_new = df_new.drop(df_new.index[df_new['Variable'] == x])\n",
    "    \n",
    "hist = df_new.loc[df_new['Model'] == 'CEDS/UVA/GCP/PRIMAP']\n",
    "x = [x for x in hist.Variable]\n",
    "y = [x for x in df_new.Variable]\n",
    "\n",
    "unique = [k for k in y if k not in x]\n",
    "unique_1 = [k for k in x if k not in y]\n",
    "\n",
    "print(unique_1)\n",
    "print(f'Number of historical vars missing: {len(unique)}')\n",
    "print(f'\\nVars missing: \\n{unique}')"
   ]
  },
  {
   "cell_type": "code",
   "execution_count": 12,
   "metadata": {},
   "outputs": [],
   "source": [
    "# here we need to combine the CO2 values for each scenario\n",
    "# aggregate_functions = {x : 'sum' for x in range(1750, 2101)}\n",
    "# df_new = df_new.groupby(['Model', 'Scenario', 'Region', 'Variable', 'Unit'], as_index=False).aggregate(aggregate_functions)"
   ]
  },
  {
   "cell_type": "markdown",
   "metadata": {},
   "source": [
    "Check there are equal amounts of vars per scenario:"
   ]
  },
  {
   "cell_type": "code",
   "execution_count": 13,
   "metadata": {},
   "outputs": [
    {
     "name": "stdout",
     "output_type": "stream",
     "text": [
      "All scenarios have equal amounts of variables: \n",
      "\n",
      "EN_NPi2020_900f                  52\n",
      "historical                       52\n",
      "EN_NPi2020_400f_lowBECCS         52\n",
      "EN_INDCi2030_500f                52\n",
      "LowEnergyDemand_1.3_IPCC         52\n",
      "SSP2_openres_lc_50               52\n",
      "SusDev_SDP-PkBudg1000            52\n",
      "DeepElec_SSP2_ HighRE_Budg900    52\n",
      "CO_Bridge                        52\n",
      "Name: Scenario, dtype: int64\n"
     ]
    }
   ],
   "source": [
    "counts = df_new['Scenario'].value_counts()\n",
    "for i in range(1, len(counts)):\n",
    "    if counts[i] == counts[i-1]:\n",
    "        continue\n",
    "    else:\n",
    "        raise ValueError('Scenarios have differing amounts of variables.')\n",
    "\n",
    "print(f'All scenarios have equal amounts of variables: \\n\\n{counts}')"
   ]
  },
  {
   "cell_type": "markdown",
   "metadata": {},
   "source": [
    "Now we need to tile the historical data over each scenario from 1750 - 2014.."
   ]
  },
  {
   "cell_type": "code",
   "execution_count": 14,
   "metadata": {},
   "outputs": [],
   "source": [
    "# order alphabetically\n",
    "df_new = df_new.sort_values(['Scenario', 'Variable'], ascending=[True, True])\n",
    "hist = df_new.loc[df_new['Model'] == 'CEDS/UVA/GCP/PRIMAP']\n",
    "\n",
    "# get the historical data per year\n",
    "for yr in range(1750, 2015):\n",
    "    hist_data = hist[yr]\n",
    "    hist_tiled = np.tile(hist_data, len(df_new['Scenario'].value_counts()))\n",
    "    df_new[yr] = hist_tiled\n",
    "    if len(df_new[yr]) == len(df_new['Model']):\n",
    "        continue\n",
    "    else:\n",
    "        ValueError('Tiling did not work properly.')\n"
   ]
  },
  {
   "cell_type": "markdown",
   "metadata": {},
   "source": [
    "Now delete historical-data-only rows:"
   ]
  },
  {
   "cell_type": "code",
   "execution_count": 15,
   "metadata": {},
   "outputs": [
    {
     "name": "stdout",
     "output_type": "stream",
     "text": [
      "Great success!\n"
     ]
    }
   ],
   "source": [
    "df_new = df_new.drop(df_new.index[df_new['Scenario'] == 'historical'])\n",
    "\n",
    "if 'historical' not in df_new['Scenario']:\n",
    "    print('Great success!')"
   ]
  },
  {
   "cell_type": "markdown",
   "metadata": {},
   "source": [
    "##### Finally, read to CSV"
   ]
  },
  {
   "cell_type": "code",
   "execution_count": 16,
   "metadata": {},
   "outputs": [],
   "source": [
    "df_new.to_csv('AR6Illus_RCMIP.csv')"
   ]
  }
 ],
 "metadata": {
  "kernelspec": {
   "display_name": "Python 3.10.5 ('fair-ukesm')",
   "language": "python",
   "name": "python3"
  },
  "language_info": {
   "codemirror_mode": {
    "name": "ipython",
    "version": 3
   },
   "file_extension": ".py",
   "mimetype": "text/x-python",
   "name": "python",
   "nbconvert_exporter": "python",
   "pygments_lexer": "ipython3",
   "version": "3.10.5"
  },
  "vscode": {
   "interpreter": {
    "hash": "b5ca8ffe6ce3f9cb3ab8a26127e57502895f6d60dc8c6d113ad679d8cb0e84cc"
   }
  }
 },
 "nbformat": 4,
 "nbformat_minor": 4
}
